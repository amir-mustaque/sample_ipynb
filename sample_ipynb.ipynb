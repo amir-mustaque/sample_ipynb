{
 "cells": [
  {
   "cell_type": "code",
   "execution_count": 1,
   "id": "1c5bbf0f",
   "metadata": {},
   "outputs": [],
   "source": [
    "sample_set={1,2,3,3,5,2,7,6,4,4,7,8,9,\"hi\",\"hello\",\"go\"}"
   ]
  },
  {
   "cell_type": "code",
   "execution_count": 2,
   "id": "f3d0b0e5",
   "metadata": {},
   "outputs": [
    {
     "data": {
      "text/plain": [
       "{1, 2, 3, 4, 5, 6, 7, 8, 9, 'go', 'hello', 'hi'}"
      ]
     },
     "execution_count": 2,
     "metadata": {},
     "output_type": "execute_result"
    }
   ],
   "source": [
    "sample_set"
   ]
  },
  {
   "cell_type": "code",
   "execution_count": 3,
   "id": "425ad7d3",
   "metadata": {},
   "outputs": [
    {
     "data": {
      "text/plain": [
       "{-3, 1, 12, 2, 32, 34, 43, 5, 56, 56.87, 76, 'go', 'hi'}"
      ]
     },
     "execution_count": 3,
     "metadata": {},
     "output_type": "execute_result"
    }
   ],
   "source": [
    "sample_set1={32,12,-3,5,76,43,56.87,34,56,2,43,1,43,\"hi\",\"go\"}\n",
    "sample_set1"
   ]
  },
  {
   "cell_type": "code",
   "execution_count": 5,
   "id": "00eef978",
   "metadata": {},
   "outputs": [
    {
     "data": {
      "text/plain": [
       "{1, 2, 3, 4, 40, 5, 6, 7, 8, 9, 'hello', 'hi'}"
      ]
     },
     "execution_count": 5,
     "metadata": {},
     "output_type": "execute_result"
    }
   ],
   "source": [
    "sample_set.add(40)\n",
    "sample_set\n",
    "sample_set.remove(\"go\")\n",
    "sample_set"
   ]
  },
  {
   "cell_type": "markdown",
   "id": "82f60d23",
   "metadata": {},
   "source": [
    "### dict\n"
   ]
  },
  {
   "cell_type": "code",
   "execution_count": 14,
   "id": "fb724b3f",
   "metadata": {},
   "outputs": [
    {
     "data": {
      "text/plain": [
       "{'name': ['amir', 'rohan'], 'subj': ['python', 'java', 'c']}"
      ]
     },
     "execution_count": 14,
     "metadata": {},
     "output_type": "execute_result"
    }
   ],
   "source": [
    "dic1={\"name\":[\"amir\",\"rohan\"],\"subj\":[\"python\",\"java\",\"c\"]}\n",
    "dic1"
   ]
  },
  {
   "cell_type": "code",
   "execution_count": 15,
   "id": "ccda7352",
   "metadata": {},
   "outputs": [
    {
     "data": {
      "text/plain": [
       "dict_keys(['name', 'subj'])"
      ]
     },
     "execution_count": 15,
     "metadata": {},
     "output_type": "execute_result"
    }
   ],
   "source": [
    "dic1.keys()"
   ]
  },
  {
   "cell_type": "code",
   "execution_count": 16,
   "id": "44a6afea",
   "metadata": {},
   "outputs": [
    {
     "data": {
      "text/plain": [
       "dict_values([['amir', 'rohan'], ['python', 'java', 'c']])"
      ]
     },
     "execution_count": 16,
     "metadata": {},
     "output_type": "execute_result"
    }
   ],
   "source": [
    "dic1.values()"
   ]
  },
  {
   "cell_type": "code",
   "execution_count": 18,
   "id": "97fad64a",
   "metadata": {},
   "outputs": [
    {
     "data": {
      "text/plain": [
       "['amir', 'rohan']"
      ]
     },
     "execution_count": 18,
     "metadata": {},
     "output_type": "execute_result"
    }
   ],
   "source": [
    "dic1[\"name\"]"
   ]
  },
  {
   "cell_type": "code",
   "execution_count": 19,
   "id": "33e5751d",
   "metadata": {},
   "outputs": [],
   "source": [
    "dic1.update({\"class\":\"hi\"})"
   ]
  },
  {
   "cell_type": "code",
   "execution_count": 20,
   "id": "6506d702",
   "metadata": {},
   "outputs": [
    {
     "data": {
      "text/plain": [
       "{'name': ['amir', 'rohan'], 'subj': ['python', 'java', 'c'], 'class': 'hi'}"
      ]
     },
     "execution_count": 20,
     "metadata": {},
     "output_type": "execute_result"
    }
   ],
   "source": [
    "dic1"
   ]
  },
  {
   "cell_type": "code",
   "execution_count": null,
   "id": "6b0b5775",
   "metadata": {},
   "outputs": [],
   "source": []
  }
 ],
 "metadata": {
  "kernelspec": {
   "display_name": "Python 3 (ipykernel)",
   "language": "python",
   "name": "python3"
  },
  "language_info": {
   "codemirror_mode": {
    "name": "ipython",
    "version": 3
   },
   "file_extension": ".py",
   "mimetype": "text/x-python",
   "name": "python",
   "nbconvert_exporter": "python",
   "pygments_lexer": "ipython3",
   "version": "3.11.5"
  }
 },
 "nbformat": 4,
 "nbformat_minor": 5
}
